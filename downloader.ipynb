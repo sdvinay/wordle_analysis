{
 "cells": [
  {
   "cell_type": "markdown",
   "metadata": {},
   "source": [
    "## Wordle List Downloader\n",
    "\n",
    "Download the source code and parse the word lists from it"
   ]
  },
  {
   "cell_type": "code",
   "execution_count": 1,
   "metadata": {},
   "outputs": [],
   "source": [
    "import requests\n",
    "import re"
   ]
  },
  {
   "cell_type": "code",
   "execution_count": 2,
   "metadata": {},
   "outputs": [
    {
     "data": {
      "text/plain": [
       "(2309, 12947)"
      ]
     },
     "execution_count": 2,
     "metadata": {},
     "output_type": "execute_result"
    }
   ],
   "source": [
    "# Get the word lists from the source code\n",
    "\n",
    "WORDLE_SRC_CD_URL = 'https://www.powerlanguage.co.uk/wordle/main.e65ce0a5.js'\n",
    "WORDLE_SRC_CD_URL = 'https://www.nytimes.com/games/wordle/main.bd4cb59c.js'\n",
    "\n",
    "wordle_src_cd = requests.get(WORDLE_SRC_CD_URL).text\n",
    "\n",
    "# This regexp pulls the word lists out of the source\n",
    "matches = re.finditer('\\[(\"\\w{5}\",?)+\\]', wordle_src_cd)\n",
    "solutions, guesses_only = [re.findall('\\w{5}', m.group(0)) for m in matches]\n",
    "guesses = guesses_only + solutions\n",
    "len(solutions), len(guesses)"
   ]
  },
  {
   "cell_type": "code",
   "execution_count": 3,
   "metadata": {},
   "outputs": [],
   "source": [
    "# Write the word lists to local files\n",
    "\n",
    "with open('solutions.txt', 'wt') as sol_file:\n",
    "    sol_file.write('\\n'.join(solutions))\n",
    "\n",
    "with open('guesses.txt', 'wt') as guess_file:\n",
    "    guess_file.write('\\n'.join(guesses))"
   ]
  },
  {
   "cell_type": "markdown",
   "metadata": {},
   "source": []
  }
 ],
 "metadata": {
  "interpreter": {
   "hash": "cd78fef2128015050713e82ca51c6520b11aee7c9ee8df750520bbbc7384cbaa"
  },
  "kernelspec": {
   "display_name": "Python 3.8.8 64-bit ('base': conda)",
   "language": "python",
   "name": "python3"
  },
  "language_info": {
   "codemirror_mode": {
    "name": "ipython",
    "version": 3
   },
   "file_extension": ".py",
   "mimetype": "text/x-python",
   "name": "python",
   "nbconvert_exporter": "python",
   "pygments_lexer": "ipython3",
   "version": "3.8.8"
  },
  "orig_nbformat": 4
 },
 "nbformat": 4,
 "nbformat_minor": 2
}
